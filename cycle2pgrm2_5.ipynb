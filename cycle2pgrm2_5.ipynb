{
  "nbformat": 4,
  "nbformat_minor": 0,
  "metadata": {
    "colab": {
      "provenance": [],
      "authorship_tag": "ABX9TyNFepbdypIvvgMT1pN96Qj2",
      "include_colab_link": true
    },
    "kernelspec": {
      "name": "python3",
      "display_name": "Python 3"
    },
    "language_info": {
      "name": "python"
    }
  },
  "cells": [
    {
      "cell_type": "markdown",
      "metadata": {
        "id": "view-in-github",
        "colab_type": "text"
      },
      "source": [
        "<a href=\"https://colab.research.google.com/github/aryasuresh4/Datascience_lab/blob/main/cycle2pgrm2_5.ipynb\" target=\"_parent\"><img src=\"https://colab.research.google.com/assets/colab-badge.svg\" alt=\"Open In Colab\"/></a>"
      ]
    },
    {
      "cell_type": "code",
      "execution_count": 1,
      "metadata": {
        "colab": {
          "base_uri": "https://localhost:8080/"
        },
        "id": "IJhxUEZBJjal",
        "outputId": "d5427503-e1ca-4e54-e536-5a5cb25dca77"
      },
      "outputs": [
        {
          "output_type": "stream",
          "name": "stdout",
          "text": [
            "One dimensional array a= [1 2 3]\n",
            "Two dimensional array b= [[1 2 3]\n",
            " [4 5 6]]\n",
            "Size of the array: (3,)\n",
            "Element at indices 0,1,2: 1 2 3\n",
            "Array after changing the element at index 0: [5 2 3]\n",
            "An array of all zeros: [[0. 0.]\n",
            " [0. 0.]]\n",
            "An array of all ones: [[1. 1.]]\n",
            "A constant array: [[7 7]\n",
            " [7 7]]\n",
            "A 2*2 identity matrix: [[1. 0.]\n",
            " [0. 1.]]\n",
            "An array with random values: [[0.40092972 0.90784814]\n",
            " [0.11565647 0.27633968]]\n"
          ]
        }
      ],
      "source": [
        "from numpy import array\n",
        "from scipy.linalg import svd\n",
        "A=array([[1,2],[3,4],[5,6]])\n",
        "print(\"A=\",A)\n",
        "print(\"Shape of array A:\",A.shape)\n",
        "print(\"\")\n",
        "U,s,VT=svd(A)\n",
        "print(\"U=\",U)\n",
        "print(\"Shape of matrix U:\",U.shape)\n",
        "print(\"\")\n",
        "print(\"sigma(diagonal marix),s=\",s)\n",
        "print(\"Shape of matrix sigma:\",s.shape)\n",
        "print(\"\")\n",
        "print(\"Tanspose Matrix,VT=\",VT)\n",
        "print(\"Shape of matrix VT:\",VT.shape)\n"
      ]
    }
  ]
}