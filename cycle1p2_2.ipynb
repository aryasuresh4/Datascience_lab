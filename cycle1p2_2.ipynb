{
  "nbformat": 4,
  "nbformat_minor": 0,
  "metadata": {
    "colab": {
      "provenance": [],
      "authorship_tag": "ABX9TyO1e2iUbOWGgNAOvFwv3rTk",
      "include_colab_link": true
    },
    "kernelspec": {
      "name": "python3",
      "display_name": "Python 3"
    },
    "language_info": {
      "name": "python"
    }
  },
  "cells": [
    {
      "cell_type": "markdown",
      "metadata": {
        "id": "view-in-github",
        "colab_type": "text"
      },
      "source": [
        "<a href=\"https://colab.research.google.com/github/aryasuresh4/Datascience_lab/blob/main/cycle1p2_2.ipynb\" target=\"_parent\"><img src=\"https://colab.research.google.com/assets/colab-badge.svg\" alt=\"Open In Colab\"/></a>"
      ]
    },
    {
      "cell_type": "code",
      "execution_count": 1,
      "metadata": {
        "colab": {
          "base_uri": "https://localhost:8080/"
        },
        "id": "HXvYyHpEMQ89",
        "outputId": "e1f50931-6152-488e-a476-f68c0f683314"
      },
      "outputs": [
        {
          "output_type": "stream",
          "name": "stdout",
          "text": [
            "Array indexing:slicing\n",
            "a1= [[ 1  2  3  4]\n",
            " [ 5  6  7  8]\n",
            " [ 9 10 11 12]]\n",
            "Subarray consisting of first two rows and columns 1 and 2: [[2 3]\n",
            " [6 7]]\n",
            "Subarray consisting of second row: [[5 6 7 8]]\n",
            "Accessing columns:\n",
            "[ 2  6 10] (3,)\n",
            "[[ 2]\n",
            " [ 6]\n",
            " [10]] (3, 1)\n",
            "Array integer indexing:\n",
            "a2= [[1 2]\n",
            " [3 4]\n",
            " [5 6]]\n",
            "Example of array integer indexing: [1 4 5]\n",
            "[2 2]\n",
            "[2 2]\n",
            "a3= [[ 1  2  3]\n",
            " [ 4  5  6]\n",
            " [ 7  8  9]\n",
            " [10 11 12]]\n",
            "b= [0 2 0 1]\n",
            "a3= [ 1  6  7 11]\n",
            "a3= [[11  2  3]\n",
            " [ 4  5 16]\n",
            " [17  8  9]\n",
            " [10 21 12]]\n",
            "Boolean array indexing:\n",
            "a= [[1 2]\n",
            " [3 4]\n",
            " [5 6]]\n",
            "Elements greater than 2: [3 4 5 6]\n"
          ]
        }
      ],
      "source": [
        "import numpy as np\n",
        "print(\"Array indexing:slicing\")\n",
        "a1=np.array([[1,2,3,4],[5,6,7,8],[9,10,11,12]])\n",
        "print(\"a1=\",a1)\n",
        "b=a1[:2,1:3]\n",
        "print(\"Subarray consisting of first two rows and columns 1 and 2:\",b)\n",
        "b=a1[1:2,:]\n",
        "print(\"Subarray consisting of second row:\",b)\n",
        "print(\"Accessing columns:\")\n",
        "b=a1[:,1]\n",
        "print(b,b.shape)\n",
        "c=a1[:,1:2]\n",
        "print(c,c.shape)\n",
        "print(\"Array integer indexing:\")\n",
        "a2=np.array([[1,2],[3,4],[5,6]])\n",
        "print(\"a2=\",a2)\n",
        "print(\"Example of array integer indexing:\",a2[[0,1,2],[0,1,0]])\n",
        "#when using integer array indexing you can reuse the same element from the source\n",
        "#array\n",
        "print(a2[[0,0],[1,1]])\n",
        "#Equivalent to the previous integer array indexing example\n",
        "print(np.array([a2[0,1],a2[0,1]]))\n",
        "a3=a=np.array([[1,2,3],[4,5,6],[7,8,9],[10,11,12]])\n",
        "print(\"a3=\",a3)\n",
        "#create an array of indices\n",
        "b=np.array([0,2,0,1])\n",
        "print(\"b=\",b)\n",
        "#select one element from each row of a using the indices in b\n",
        "print(\"a3=\",a3[np.arange(4),b])\n",
        "#mutate one element from each row of a using the indices in b\n",
        "a3[np.arange(4),b]+=10\n",
        "print(\"a3=\",a3)\n",
        "print(\"Boolean array indexing:\")\n",
        "a=np.array([[1,2],[3,4],[5,6]])\n",
        "print(\"a=\",a)\n",
        "bool_idx=(a>2)\n",
        "print(\"Elements greater than 2:\",a[bool_idx])\n"
      ]
    }
  ]
}